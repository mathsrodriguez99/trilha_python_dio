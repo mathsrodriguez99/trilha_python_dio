'''
Desafio - Criando um sistema bancário - DIO

Autor: Matheus R.
Data: 24/fev/2025

'''

menu= """

[d] Depositar
[s] Sacar
[e] Extrato
[q] Sair

=> """

#Iniciar valores constantes e variáveis utilizados!
saldo = 0
limite = 500
extrato = []
numero_saques = 0
LIMITE_SAQUES = 3

#laço de repetição para as funções do menu
while True:
    opcao= input(menu)

    if opcao == "d":
      valor= float(input("Informe o valor a ser depositado: "))

      if valor > 0:
        saldo += valor
        reg_dep = f"Depósito: R$ {valor:.2f}\n"
        extrato.append(reg_dep)

      else:
        raise ValueError("Operação inválida! O valor a ser depositado deve ser maior que zero.")

    elif opcao == "s":
      valor= float(input("Informe o valor a ser sacado: "))

      if valor < saldo:
        if valor <= limite:
          if numero_saques < LIMITE_SAQUES:
            saldo -= valor
            reg_saq = f"Saque: R$ {valor:.2f}\n"
            extrato.append(reg_saq)
            numero_saques += 1
          else:
            raise ValueError("Operação inválida! Número máximo de saques excedido.")
        else: 
          raise ValueError("Operação inválida! O valor a ser sacado deve ser menor ou igual ao limite de R$ 500.00!")
      else:
        raise ValueError("Operação inválida! Saldo insuficiente.")
    
    elif opcao == "e":
      if extrato:
        print("\n=================== EXTRATO ===================")
        for reg in extrato:
          print(reg, end="")
        print(f"\nSaldo: R$ {saldo:.2f}")
        print("===============================================")
      else:
        print("Não foram realizadas movimentações.")

    elif opcao == "q":
      break

    else:
      raise ValueError("Operação inválida! Por favor, selecione uma opção válida.")
